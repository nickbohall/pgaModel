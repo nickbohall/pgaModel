{
  "nbformat": 4,
  "nbformat_minor": 0,
  "metadata": {
    "colab": {
      "provenance": [],
      "toc_visible": true,
      "authorship_tag": "ABX9TyOP9H8cc/1bLJdUAdMlfN/k",
      "include_colab_link": true
    },
    "kernelspec": {
      "name": "python3",
      "display_name": "Python 3"
    },
    "language_info": {
      "name": "python"
    }
  },
  "cells": [
    {
      "cell_type": "markdown",
      "metadata": {
        "id": "view-in-github",
        "colab_type": "text"
      },
      "source": [
        "<a href=\"https://colab.research.google.com/github/nickbohall/pgaModel/blob/main/pga_model.ipynb\" target=\"_parent\"><img src=\"https://colab.research.google.com/assets/colab-badge.svg\" alt=\"Open In Colab\"/></a>"
      ]
    },
    {
      "cell_type": "markdown",
      "source": [
        "### **This is a PGA betting Model**"
      ],
      "metadata": {
        "id": "TVD3kNOc9OxA"
      }
    },
    {
      "cell_type": "markdown",
      "source": [
        "# Imports"
      ],
      "metadata": {
        "id": "MwpesNKk9W7H"
      }
    },
    {
      "cell_type": "code",
      "source": [
        "import pandas as pd\n",
        "import numpy as np\n",
        "\n",
        "import seaborn as sns\n",
        "import plotly.express as px\n",
        "import matplotlib.pyplot as plt\n",
        "\n",
        "from sklearn.linear_model import LinearRegression\n",
        "from sklearn.model_selection import train_test_split\n",
        "from sklearn.metrics import mean_squared_error, r2_score\n",
        "\n",
        "from google.colab import drive\n",
        "drive.mount('/content/drive')"
      ],
      "metadata": {
        "colab": {
          "base_uri": "https://localhost:8080/"
        },
        "id": "-vm5Txbg9SuT",
        "outputId": "bad5651e-33a5-4033-82be-aad45e6382bd"
      },
      "execution_count": null,
      "outputs": [
        {
          "output_type": "stream",
          "name": "stdout",
          "text": [
            "Drive already mounted at /content/drive; to attempt to forcibly remount, call drive.mount(\"/content/drive\", force_remount=True).\n"
          ]
        }
      ]
    },
    {
      "cell_type": "markdown",
      "source": [
        "# Notebook presentation"
      ],
      "metadata": {
        "id": "pJSZWGe69rnt"
      }
    },
    {
      "cell_type": "code",
      "source": [
        "pd.options.display.float_format = '{:,.2f}'.format"
      ],
      "metadata": {
        "id": "t7kCxHk-9tM6"
      },
      "execution_count": null,
      "outputs": []
    },
    {
      "cell_type": "markdown",
      "source": [
        "# Read in the Data"
      ],
      "metadata": {
        "id": "t2kD5buR9uoB"
      }
    },
    {
      "cell_type": "code",
      "source": [
        "data = pd.read_csv(\"/content/drive/MyDrive/Colab Notebooks/PGA Model/2023_RBC Heritage_data.csv\")"
      ],
      "metadata": {
        "id": "xjENL8Kj9uEz"
      },
      "execution_count": null,
      "outputs": []
    },
    {
      "cell_type": "markdown",
      "source": [
        "# Clean & Describe the Data"
      ],
      "metadata": {
        "id": "U7uz5xYN9Zck"
      }
    },
    {
      "cell_type": "code",
      "source": [
        "data.shape\n",
        "data.count()\n",
        "data.info()\n",
        "data.head()"
      ],
      "metadata": {
        "colab": {
          "base_uri": "https://localhost:8080/",
          "height": 684
        },
        "id": "0YQ1hwW69Vus",
        "outputId": "a677e832-889a-41b0-a5d0-f8067aae97f5"
      },
      "execution_count": null,
      "outputs": [
        {
          "output_type": "stream",
          "name": "stdout",
          "text": [
            "<class 'pandas.core.frame.DataFrame'>\n",
            "RangeIndex: 243 entries, 0 to 242\n",
            "Data columns (total 18 columns):\n",
            " #   Column             Non-Null Count  Dtype  \n",
            "---  ------             --------------  -----  \n",
            " 0   Unnamed: 0         243 non-null    int64  \n",
            " 1   player             243 non-null    object \n",
            " 2   player_id          243 non-null    int64  \n",
            " 3   scoring Average    203 non-null    float64\n",
            " 4   SG total Average   203 non-null    float64\n",
            " 5   SG OTT Average     203 non-null    float64\n",
            " 6   SG ATG Average     203 non-null    float64\n",
            " 7   SG TTG Average     203 non-null    float64\n",
            " 8   SG APR Average     203 non-null    float64\n",
            " 9   SG PUT Average     203 non-null    float64\n",
            " 10  avg_score_tourney  168 non-null    float64\n",
            " 11  avg_cut_tourney    168 non-null    float64\n",
            " 12  avg_score_course   168 non-null    float64\n",
            " 13  avg_cut_course     168 non-null    float64\n",
            " 14  index              100 non-null    float64\n",
            " 15  last_season_score  100 non-null    float64\n",
            " 16  last_season_cut    100 non-null    float64\n",
            " 17  odds               139 non-null    float64\n",
            "dtypes: float64(15), int64(2), object(1)\n",
            "memory usage: 34.3+ KB\n"
          ]
        },
        {
          "output_type": "execute_result",
          "data": {
            "text/plain": [
              "   Unnamed: 0            player  player_id  scoring Average  SG total Average  \\\n",
              "0           0  Anders Albertson      49303            71.97             -0.96   \n",
              "1           1   Tyson Alexander      33408            71.44             -0.66   \n",
              "2           2     Byeong Hun An      33948            70.62              0.57   \n",
              "3           3       Ryan Armour      19803            71.42             -0.45   \n",
              "4           4    Aaron Baddeley      22371            70.80              0.20   \n",
              "\n",
              "   SG OTT Average  SG ATG Average  SG TTG Average  SG APR Average  \\\n",
              "0           -0.75           -0.12           -1.71           -0.84   \n",
              "1           -0.35            0.24           -0.66           -0.56   \n",
              "2            0.08            0.59            0.72            0.05   \n",
              "3           -0.08           -0.07           -0.26           -0.11   \n",
              "4           -0.23            0.41            0.04           -0.14   \n",
              "\n",
              "   SG PUT Average  avg_score_tourney  avg_cut_tourney  avg_score_course  \\\n",
              "0            0.75                NaN              NaN               NaN   \n",
              "1            0.01                NaN              NaN               NaN   \n",
              "2           -0.14               0.75             0.25              0.75   \n",
              "3           -0.19               1.00             0.75              1.00   \n",
              "4            0.15              -0.17             0.50             -0.17   \n",
              "\n",
              "   avg_cut_course  index  last_season_score  last_season_cut  odds  \n",
              "0             NaN    NaN                NaN              NaN   NaN  \n",
              "1             NaN    NaN                NaN              NaN   NaN  \n",
              "2            0.25    NaN                NaN              NaN   NaN  \n",
              "3            0.75    NaN                NaN              NaN   NaN  \n",
              "4            0.50    NaN                NaN              NaN   NaN  "
            ],
            "text/html": [
              "\n",
              "  <div id=\"df-c398068c-5480-4088-bb27-99dab162e7b9\">\n",
              "    <div class=\"colab-df-container\">\n",
              "      <div>\n",
              "<style scoped>\n",
              "    .dataframe tbody tr th:only-of-type {\n",
              "        vertical-align: middle;\n",
              "    }\n",
              "\n",
              "    .dataframe tbody tr th {\n",
              "        vertical-align: top;\n",
              "    }\n",
              "\n",
              "    .dataframe thead th {\n",
              "        text-align: right;\n",
              "    }\n",
              "</style>\n",
              "<table border=\"1\" class=\"dataframe\">\n",
              "  <thead>\n",
              "    <tr style=\"text-align: right;\">\n",
              "      <th></th>\n",
              "      <th>Unnamed: 0</th>\n",
              "      <th>player</th>\n",
              "      <th>player_id</th>\n",
              "      <th>scoring Average</th>\n",
              "      <th>SG total Average</th>\n",
              "      <th>SG OTT Average</th>\n",
              "      <th>SG ATG Average</th>\n",
              "      <th>SG TTG Average</th>\n",
              "      <th>SG APR Average</th>\n",
              "      <th>SG PUT Average</th>\n",
              "      <th>avg_score_tourney</th>\n",
              "      <th>avg_cut_tourney</th>\n",
              "      <th>avg_score_course</th>\n",
              "      <th>avg_cut_course</th>\n",
              "      <th>index</th>\n",
              "      <th>last_season_score</th>\n",
              "      <th>last_season_cut</th>\n",
              "      <th>odds</th>\n",
              "    </tr>\n",
              "  </thead>\n",
              "  <tbody>\n",
              "    <tr>\n",
              "      <th>0</th>\n",
              "      <td>0</td>\n",
              "      <td>Anders Albertson</td>\n",
              "      <td>49303</td>\n",
              "      <td>71.97</td>\n",
              "      <td>-0.96</td>\n",
              "      <td>-0.75</td>\n",
              "      <td>-0.12</td>\n",
              "      <td>-1.71</td>\n",
              "      <td>-0.84</td>\n",
              "      <td>0.75</td>\n",
              "      <td>NaN</td>\n",
              "      <td>NaN</td>\n",
              "      <td>NaN</td>\n",
              "      <td>NaN</td>\n",
              "      <td>NaN</td>\n",
              "      <td>NaN</td>\n",
              "      <td>NaN</td>\n",
              "      <td>NaN</td>\n",
              "    </tr>\n",
              "    <tr>\n",
              "      <th>1</th>\n",
              "      <td>1</td>\n",
              "      <td>Tyson Alexander</td>\n",
              "      <td>33408</td>\n",
              "      <td>71.44</td>\n",
              "      <td>-0.66</td>\n",
              "      <td>-0.35</td>\n",
              "      <td>0.24</td>\n",
              "      <td>-0.66</td>\n",
              "      <td>-0.56</td>\n",
              "      <td>0.01</td>\n",
              "      <td>NaN</td>\n",
              "      <td>NaN</td>\n",
              "      <td>NaN</td>\n",
              "      <td>NaN</td>\n",
              "      <td>NaN</td>\n",
              "      <td>NaN</td>\n",
              "      <td>NaN</td>\n",
              "      <td>NaN</td>\n",
              "    </tr>\n",
              "    <tr>\n",
              "      <th>2</th>\n",
              "      <td>2</td>\n",
              "      <td>Byeong Hun An</td>\n",
              "      <td>33948</td>\n",
              "      <td>70.62</td>\n",
              "      <td>0.57</td>\n",
              "      <td>0.08</td>\n",
              "      <td>0.59</td>\n",
              "      <td>0.72</td>\n",
              "      <td>0.05</td>\n",
              "      <td>-0.14</td>\n",
              "      <td>0.75</td>\n",
              "      <td>0.25</td>\n",
              "      <td>0.75</td>\n",
              "      <td>0.25</td>\n",
              "      <td>NaN</td>\n",
              "      <td>NaN</td>\n",
              "      <td>NaN</td>\n",
              "      <td>NaN</td>\n",
              "    </tr>\n",
              "    <tr>\n",
              "      <th>3</th>\n",
              "      <td>3</td>\n",
              "      <td>Ryan Armour</td>\n",
              "      <td>19803</td>\n",
              "      <td>71.42</td>\n",
              "      <td>-0.45</td>\n",
              "      <td>-0.08</td>\n",
              "      <td>-0.07</td>\n",
              "      <td>-0.26</td>\n",
              "      <td>-0.11</td>\n",
              "      <td>-0.19</td>\n",
              "      <td>1.00</td>\n",
              "      <td>0.75</td>\n",
              "      <td>1.00</td>\n",
              "      <td>0.75</td>\n",
              "      <td>NaN</td>\n",
              "      <td>NaN</td>\n",
              "      <td>NaN</td>\n",
              "      <td>NaN</td>\n",
              "    </tr>\n",
              "    <tr>\n",
              "      <th>4</th>\n",
              "      <td>4</td>\n",
              "      <td>Aaron Baddeley</td>\n",
              "      <td>22371</td>\n",
              "      <td>70.80</td>\n",
              "      <td>0.20</td>\n",
              "      <td>-0.23</td>\n",
              "      <td>0.41</td>\n",
              "      <td>0.04</td>\n",
              "      <td>-0.14</td>\n",
              "      <td>0.15</td>\n",
              "      <td>-0.17</td>\n",
              "      <td>0.50</td>\n",
              "      <td>-0.17</td>\n",
              "      <td>0.50</td>\n",
              "      <td>NaN</td>\n",
              "      <td>NaN</td>\n",
              "      <td>NaN</td>\n",
              "      <td>NaN</td>\n",
              "    </tr>\n",
              "  </tbody>\n",
              "</table>\n",
              "</div>\n",
              "      <button class=\"colab-df-convert\" onclick=\"convertToInteractive('df-c398068c-5480-4088-bb27-99dab162e7b9')\"\n",
              "              title=\"Convert this dataframe to an interactive table.\"\n",
              "              style=\"display:none;\">\n",
              "        \n",
              "  <svg xmlns=\"http://www.w3.org/2000/svg\" height=\"24px\"viewBox=\"0 0 24 24\"\n",
              "       width=\"24px\">\n",
              "    <path d=\"M0 0h24v24H0V0z\" fill=\"none\"/>\n",
              "    <path d=\"M18.56 5.44l.94 2.06.94-2.06 2.06-.94-2.06-.94-.94-2.06-.94 2.06-2.06.94zm-11 1L8.5 8.5l.94-2.06 2.06-.94-2.06-.94L8.5 2.5l-.94 2.06-2.06.94zm10 10l.94 2.06.94-2.06 2.06-.94-2.06-.94-.94-2.06-.94 2.06-2.06.94z\"/><path d=\"M17.41 7.96l-1.37-1.37c-.4-.4-.92-.59-1.43-.59-.52 0-1.04.2-1.43.59L10.3 9.45l-7.72 7.72c-.78.78-.78 2.05 0 2.83L4 21.41c.39.39.9.59 1.41.59.51 0 1.02-.2 1.41-.59l7.78-7.78 2.81-2.81c.8-.78.8-2.07 0-2.86zM5.41 20L4 18.59l7.72-7.72 1.47 1.35L5.41 20z\"/>\n",
              "  </svg>\n",
              "      </button>\n",
              "      \n",
              "  <style>\n",
              "    .colab-df-container {\n",
              "      display:flex;\n",
              "      flex-wrap:wrap;\n",
              "      gap: 12px;\n",
              "    }\n",
              "\n",
              "    .colab-df-convert {\n",
              "      background-color: #E8F0FE;\n",
              "      border: none;\n",
              "      border-radius: 50%;\n",
              "      cursor: pointer;\n",
              "      display: none;\n",
              "      fill: #1967D2;\n",
              "      height: 32px;\n",
              "      padding: 0 0 0 0;\n",
              "      width: 32px;\n",
              "    }\n",
              "\n",
              "    .colab-df-convert:hover {\n",
              "      background-color: #E2EBFA;\n",
              "      box-shadow: 0px 1px 2px rgba(60, 64, 67, 0.3), 0px 1px 3px 1px rgba(60, 64, 67, 0.15);\n",
              "      fill: #174EA6;\n",
              "    }\n",
              "\n",
              "    [theme=dark] .colab-df-convert {\n",
              "      background-color: #3B4455;\n",
              "      fill: #D2E3FC;\n",
              "    }\n",
              "\n",
              "    [theme=dark] .colab-df-convert:hover {\n",
              "      background-color: #434B5C;\n",
              "      box-shadow: 0px 1px 3px 1px rgba(0, 0, 0, 0.15);\n",
              "      filter: drop-shadow(0px 1px 2px rgba(0, 0, 0, 0.3));\n",
              "      fill: #FFFFFF;\n",
              "    }\n",
              "  </style>\n",
              "\n",
              "      <script>\n",
              "        const buttonEl =\n",
              "          document.querySelector('#df-c398068c-5480-4088-bb27-99dab162e7b9 button.colab-df-convert');\n",
              "        buttonEl.style.display =\n",
              "          google.colab.kernel.accessAllowed ? 'block' : 'none';\n",
              "\n",
              "        async function convertToInteractive(key) {\n",
              "          const element = document.querySelector('#df-c398068c-5480-4088-bb27-99dab162e7b9');\n",
              "          const dataTable =\n",
              "            await google.colab.kernel.invokeFunction('convertToInteractive',\n",
              "                                                     [key], {});\n",
              "          if (!dataTable) return;\n",
              "\n",
              "          const docLinkHtml = 'Like what you see? Visit the ' +\n",
              "            '<a target=\"_blank\" href=https://colab.research.google.com/notebooks/data_table.ipynb>data table notebook</a>'\n",
              "            + ' to learn more about interactive tables.';\n",
              "          element.innerHTML = '';\n",
              "          dataTable['output_type'] = 'display_data';\n",
              "          await google.colab.output.renderOutput(dataTable, element);\n",
              "          const docLink = document.createElement('div');\n",
              "          docLink.innerHTML = docLinkHtml;\n",
              "          element.appendChild(docLink);\n",
              "        }\n",
              "      </script>\n",
              "    </div>\n",
              "  </div>\n",
              "  "
            ]
          },
          "metadata": {},
          "execution_count": 43
        }
      ]
    },
    {
      "cell_type": "code",
      "source": [
        "print(f'Any NaN values? {data.isna().values.any()}')\n",
        "print(f'Any duplicates? {data.duplicated().values.any()}')"
      ],
      "metadata": {
        "colab": {
          "base_uri": "https://localhost:8080/"
        },
        "id": "Vud86vf--Tra",
        "outputId": "0c88f59f-5e89-4357-e5f3-929c6bd53765"
      },
      "execution_count": null,
      "outputs": [
        {
          "output_type": "stream",
          "name": "stdout",
          "text": [
            "Any NaN values? True\n",
            "Any duplicates? False\n"
          ]
        }
      ]
    },
    {
      "cell_type": "code",
      "source": [
        "clean_df = data.drop(columns=[\"Unnamed: 0\", \"odds\", \"index\"], axis=1).dropna()\n",
        "clean_df.describe()"
      ],
      "metadata": {
        "colab": {
          "base_uri": "https://localhost:8080/",
          "height": 300
        },
        "id": "O1AOqLd5-mGg",
        "outputId": "0b44f307-27ce-40da-a981-cabfa2de18c2"
      },
      "execution_count": null,
      "outputs": [
        {
          "output_type": "execute_result",
          "data": {
            "text/plain": [
              "       player_id  scoring Average  SG total Average  SG OTT Average  \\\n",
              "count      93.00            93.00             93.00           93.00   \n",
              "mean   35,642.29            71.22             -0.02           -0.06   \n",
              "std     8,933.71             0.78              0.97            0.43   \n",
              "min    12,716.00            69.94             -3.55           -1.63   \n",
              "25%    29,970.00            70.60             -0.50           -0.26   \n",
              "50%    33,448.00            71.25             -0.06           -0.02   \n",
              "75%    39,971.00            71.69              0.68            0.15   \n",
              "max    57,366.00            73.25              1.84            0.96   \n",
              "\n",
              "       SG ATG Average  SG TTG Average  SG APR Average  SG PUT Average  \\\n",
              "count           93.00           93.00           93.00           93.00   \n",
              "mean             0.01           -0.02            0.02            0.00   \n",
              "std              0.28            0.86            0.55            0.43   \n",
              "min             -0.61           -3.27           -1.96           -1.03   \n",
              "25%             -0.19           -0.49           -0.25           -0.31   \n",
              "50%              0.04            0.02            0.07            0.02   \n",
              "75%              0.21            0.52            0.39            0.32   \n",
              "max              0.63            1.73            1.25            1.33   \n",
              "\n",
              "       avg_score_tourney  avg_cut_tourney  avg_score_course  avg_cut_course  \\\n",
              "count              93.00            93.00             93.00           93.00   \n",
              "mean               -1.53             0.57             -1.53            0.57   \n",
              "std                 5.23             0.33              5.23            0.33   \n",
              "min               -12.50             0.00            -12.50            0.00   \n",
              "25%                -4.20             0.33             -4.20            0.33   \n",
              "50%                -2.25             0.62             -2.25            0.62   \n",
              "75%                 2.00             0.80              2.00            0.80   \n",
              "max                19.00             1.00             19.00            1.00   \n",
              "\n",
              "       last_season_score  last_season_cut  \n",
              "count              93.00            93.00  \n",
              "mean               -0.77             0.55  \n",
              "std                 7.18             0.50  \n",
              "min               -13.00             0.00  \n",
              "25%                -7.00             0.00  \n",
              "50%                 1.00             1.00  \n",
              "75%                 4.00             1.00  \n",
              "max                19.00             1.00  "
            ],
            "text/html": [
              "\n",
              "  <div id=\"df-603bc92b-6a88-43e7-bedf-94a0a8a4b496\">\n",
              "    <div class=\"colab-df-container\">\n",
              "      <div>\n",
              "<style scoped>\n",
              "    .dataframe tbody tr th:only-of-type {\n",
              "        vertical-align: middle;\n",
              "    }\n",
              "\n",
              "    .dataframe tbody tr th {\n",
              "        vertical-align: top;\n",
              "    }\n",
              "\n",
              "    .dataframe thead th {\n",
              "        text-align: right;\n",
              "    }\n",
              "</style>\n",
              "<table border=\"1\" class=\"dataframe\">\n",
              "  <thead>\n",
              "    <tr style=\"text-align: right;\">\n",
              "      <th></th>\n",
              "      <th>player_id</th>\n",
              "      <th>scoring Average</th>\n",
              "      <th>SG total Average</th>\n",
              "      <th>SG OTT Average</th>\n",
              "      <th>SG ATG Average</th>\n",
              "      <th>SG TTG Average</th>\n",
              "      <th>SG APR Average</th>\n",
              "      <th>SG PUT Average</th>\n",
              "      <th>avg_score_tourney</th>\n",
              "      <th>avg_cut_tourney</th>\n",
              "      <th>avg_score_course</th>\n",
              "      <th>avg_cut_course</th>\n",
              "      <th>last_season_score</th>\n",
              "      <th>last_season_cut</th>\n",
              "    </tr>\n",
              "  </thead>\n",
              "  <tbody>\n",
              "    <tr>\n",
              "      <th>count</th>\n",
              "      <td>93.00</td>\n",
              "      <td>93.00</td>\n",
              "      <td>93.00</td>\n",
              "      <td>93.00</td>\n",
              "      <td>93.00</td>\n",
              "      <td>93.00</td>\n",
              "      <td>93.00</td>\n",
              "      <td>93.00</td>\n",
              "      <td>93.00</td>\n",
              "      <td>93.00</td>\n",
              "      <td>93.00</td>\n",
              "      <td>93.00</td>\n",
              "      <td>93.00</td>\n",
              "      <td>93.00</td>\n",
              "    </tr>\n",
              "    <tr>\n",
              "      <th>mean</th>\n",
              "      <td>35,642.29</td>\n",
              "      <td>71.22</td>\n",
              "      <td>-0.02</td>\n",
              "      <td>-0.06</td>\n",
              "      <td>0.01</td>\n",
              "      <td>-0.02</td>\n",
              "      <td>0.02</td>\n",
              "      <td>0.00</td>\n",
              "      <td>-1.53</td>\n",
              "      <td>0.57</td>\n",
              "      <td>-1.53</td>\n",
              "      <td>0.57</td>\n",
              "      <td>-0.77</td>\n",
              "      <td>0.55</td>\n",
              "    </tr>\n",
              "    <tr>\n",
              "      <th>std</th>\n",
              "      <td>8,933.71</td>\n",
              "      <td>0.78</td>\n",
              "      <td>0.97</td>\n",
              "      <td>0.43</td>\n",
              "      <td>0.28</td>\n",
              "      <td>0.86</td>\n",
              "      <td>0.55</td>\n",
              "      <td>0.43</td>\n",
              "      <td>5.23</td>\n",
              "      <td>0.33</td>\n",
              "      <td>5.23</td>\n",
              "      <td>0.33</td>\n",
              "      <td>7.18</td>\n",
              "      <td>0.50</td>\n",
              "    </tr>\n",
              "    <tr>\n",
              "      <th>min</th>\n",
              "      <td>12,716.00</td>\n",
              "      <td>69.94</td>\n",
              "      <td>-3.55</td>\n",
              "      <td>-1.63</td>\n",
              "      <td>-0.61</td>\n",
              "      <td>-3.27</td>\n",
              "      <td>-1.96</td>\n",
              "      <td>-1.03</td>\n",
              "      <td>-12.50</td>\n",
              "      <td>0.00</td>\n",
              "      <td>-12.50</td>\n",
              "      <td>0.00</td>\n",
              "      <td>-13.00</td>\n",
              "      <td>0.00</td>\n",
              "    </tr>\n",
              "    <tr>\n",
              "      <th>25%</th>\n",
              "      <td>29,970.00</td>\n",
              "      <td>70.60</td>\n",
              "      <td>-0.50</td>\n",
              "      <td>-0.26</td>\n",
              "      <td>-0.19</td>\n",
              "      <td>-0.49</td>\n",
              "      <td>-0.25</td>\n",
              "      <td>-0.31</td>\n",
              "      <td>-4.20</td>\n",
              "      <td>0.33</td>\n",
              "      <td>-4.20</td>\n",
              "      <td>0.33</td>\n",
              "      <td>-7.00</td>\n",
              "      <td>0.00</td>\n",
              "    </tr>\n",
              "    <tr>\n",
              "      <th>50%</th>\n",
              "      <td>33,448.00</td>\n",
              "      <td>71.25</td>\n",
              "      <td>-0.06</td>\n",
              "      <td>-0.02</td>\n",
              "      <td>0.04</td>\n",
              "      <td>0.02</td>\n",
              "      <td>0.07</td>\n",
              "      <td>0.02</td>\n",
              "      <td>-2.25</td>\n",
              "      <td>0.62</td>\n",
              "      <td>-2.25</td>\n",
              "      <td>0.62</td>\n",
              "      <td>1.00</td>\n",
              "      <td>1.00</td>\n",
              "    </tr>\n",
              "    <tr>\n",
              "      <th>75%</th>\n",
              "      <td>39,971.00</td>\n",
              "      <td>71.69</td>\n",
              "      <td>0.68</td>\n",
              "      <td>0.15</td>\n",
              "      <td>0.21</td>\n",
              "      <td>0.52</td>\n",
              "      <td>0.39</td>\n",
              "      <td>0.32</td>\n",
              "      <td>2.00</td>\n",
              "      <td>0.80</td>\n",
              "      <td>2.00</td>\n",
              "      <td>0.80</td>\n",
              "      <td>4.00</td>\n",
              "      <td>1.00</td>\n",
              "    </tr>\n",
              "    <tr>\n",
              "      <th>max</th>\n",
              "      <td>57,366.00</td>\n",
              "      <td>73.25</td>\n",
              "      <td>1.84</td>\n",
              "      <td>0.96</td>\n",
              "      <td>0.63</td>\n",
              "      <td>1.73</td>\n",
              "      <td>1.25</td>\n",
              "      <td>1.33</td>\n",
              "      <td>19.00</td>\n",
              "      <td>1.00</td>\n",
              "      <td>19.00</td>\n",
              "      <td>1.00</td>\n",
              "      <td>19.00</td>\n",
              "      <td>1.00</td>\n",
              "    </tr>\n",
              "  </tbody>\n",
              "</table>\n",
              "</div>\n",
              "      <button class=\"colab-df-convert\" onclick=\"convertToInteractive('df-603bc92b-6a88-43e7-bedf-94a0a8a4b496')\"\n",
              "              title=\"Convert this dataframe to an interactive table.\"\n",
              "              style=\"display:none;\">\n",
              "        \n",
              "  <svg xmlns=\"http://www.w3.org/2000/svg\" height=\"24px\"viewBox=\"0 0 24 24\"\n",
              "       width=\"24px\">\n",
              "    <path d=\"M0 0h24v24H0V0z\" fill=\"none\"/>\n",
              "    <path d=\"M18.56 5.44l.94 2.06.94-2.06 2.06-.94-2.06-.94-.94-2.06-.94 2.06-2.06.94zm-11 1L8.5 8.5l.94-2.06 2.06-.94-2.06-.94L8.5 2.5l-.94 2.06-2.06.94zm10 10l.94 2.06.94-2.06 2.06-.94-2.06-.94-.94-2.06-.94 2.06-2.06.94z\"/><path d=\"M17.41 7.96l-1.37-1.37c-.4-.4-.92-.59-1.43-.59-.52 0-1.04.2-1.43.59L10.3 9.45l-7.72 7.72c-.78.78-.78 2.05 0 2.83L4 21.41c.39.39.9.59 1.41.59.51 0 1.02-.2 1.41-.59l7.78-7.78 2.81-2.81c.8-.78.8-2.07 0-2.86zM5.41 20L4 18.59l7.72-7.72 1.47 1.35L5.41 20z\"/>\n",
              "  </svg>\n",
              "      </button>\n",
              "      \n",
              "  <style>\n",
              "    .colab-df-container {\n",
              "      display:flex;\n",
              "      flex-wrap:wrap;\n",
              "      gap: 12px;\n",
              "    }\n",
              "\n",
              "    .colab-df-convert {\n",
              "      background-color: #E8F0FE;\n",
              "      border: none;\n",
              "      border-radius: 50%;\n",
              "      cursor: pointer;\n",
              "      display: none;\n",
              "      fill: #1967D2;\n",
              "      height: 32px;\n",
              "      padding: 0 0 0 0;\n",
              "      width: 32px;\n",
              "    }\n",
              "\n",
              "    .colab-df-convert:hover {\n",
              "      background-color: #E2EBFA;\n",
              "      box-shadow: 0px 1px 2px rgba(60, 64, 67, 0.3), 0px 1px 3px 1px rgba(60, 64, 67, 0.15);\n",
              "      fill: #174EA6;\n",
              "    }\n",
              "\n",
              "    [theme=dark] .colab-df-convert {\n",
              "      background-color: #3B4455;\n",
              "      fill: #D2E3FC;\n",
              "    }\n",
              "\n",
              "    [theme=dark] .colab-df-convert:hover {\n",
              "      background-color: #434B5C;\n",
              "      box-shadow: 0px 1px 3px 1px rgba(0, 0, 0, 0.15);\n",
              "      filter: drop-shadow(0px 1px 2px rgba(0, 0, 0, 0.3));\n",
              "      fill: #FFFFFF;\n",
              "    }\n",
              "  </style>\n",
              "\n",
              "      <script>\n",
              "        const buttonEl =\n",
              "          document.querySelector('#df-603bc92b-6a88-43e7-bedf-94a0a8a4b496 button.colab-df-convert');\n",
              "        buttonEl.style.display =\n",
              "          google.colab.kernel.accessAllowed ? 'block' : 'none';\n",
              "\n",
              "        async function convertToInteractive(key) {\n",
              "          const element = document.querySelector('#df-603bc92b-6a88-43e7-bedf-94a0a8a4b496');\n",
              "          const dataTable =\n",
              "            await google.colab.kernel.invokeFunction('convertToInteractive',\n",
              "                                                     [key], {});\n",
              "          if (!dataTable) return;\n",
              "\n",
              "          const docLinkHtml = 'Like what you see? Visit the ' +\n",
              "            '<a target=\"_blank\" href=https://colab.research.google.com/notebooks/data_table.ipynb>data table notebook</a>'\n",
              "            + ' to learn more about interactive tables.';\n",
              "          element.innerHTML = '';\n",
              "          dataTable['output_type'] = 'display_data';\n",
              "          await google.colab.output.renderOutput(dataTable, element);\n",
              "          const docLink = document.createElement('div');\n",
              "          docLink.innerHTML = docLinkHtml;\n",
              "          element.appendChild(docLink);\n",
              "        }\n",
              "      </script>\n",
              "    </div>\n",
              "  </div>\n",
              "  "
            ]
          },
          "metadata": {},
          "execution_count": 71
        }
      ]
    },
    {
      "cell_type": "markdown",
      "source": [
        "# Training"
      ],
      "metadata": {
        "id": "Wk5fpMjJ__Y9"
      }
    },
    {
      "cell_type": "code",
      "source": [
        "target = clean_df[\"last_season_score\"]\n",
        "features = clean_df.drop(columns=[\"player\", \"player_id\", \"last_season_score\", \"last_season_cut\"])"
      ],
      "metadata": {
        "id": "U8hEorbfAA6-"
      },
      "execution_count": null,
      "outputs": []
    },
    {
      "cell_type": "code",
      "source": [
        "X_train, X_test, Y_train, Y_test = train_test_split(features, target,test_size = 0.3, random_state = 10)\n",
        "X_train.shape, Y_train.shape"
      ],
      "metadata": {
        "colab": {
          "base_uri": "https://localhost:8080/"
        },
        "id": "VLYtMIfyi-7d",
        "outputId": "a463cd22-0c7f-4b62-f097-f19d39c7efec"
      },
      "execution_count": null,
      "outputs": [
        {
          "output_type": "execute_result",
          "data": {
            "text/plain": [
              "((65, 11), (65,))"
            ]
          },
          "metadata": {},
          "execution_count": 76
        }
      ]
    },
    {
      "cell_type": "code",
      "source": [
        "X_test.shape, Y_test.shape"
      ],
      "metadata": {
        "colab": {
          "base_uri": "https://localhost:8080/"
        },
        "id": "uN55cOBmpPoa",
        "outputId": "b4e8554a-eb10-488d-9d59-d13ee9664479"
      },
      "execution_count": null,
      "outputs": [
        {
          "output_type": "execute_result",
          "data": {
            "text/plain": [
              "((28, 11), (28,))"
            ]
          },
          "metadata": {},
          "execution_count": 77
        }
      ]
    },
    {
      "cell_type": "code",
      "source": [
        "model = LinearRegression()\n",
        "model.fit(X_train, Y_train)"
      ],
      "metadata": {
        "colab": {
          "base_uri": "https://localhost:8080/",
          "height": 75
        },
        "id": "8v5E5jxkjKDi",
        "outputId": "5a550e20-e083-47df-cb2c-3531acdd016a"
      },
      "execution_count": null,
      "outputs": [
        {
          "output_type": "execute_result",
          "data": {
            "text/plain": [
              "LinearRegression()"
            ],
            "text/html": [
              "<style>#sk-container-id-1 {color: black;background-color: white;}#sk-container-id-1 pre{padding: 0;}#sk-container-id-1 div.sk-toggleable {background-color: white;}#sk-container-id-1 label.sk-toggleable__label {cursor: pointer;display: block;width: 100%;margin-bottom: 0;padding: 0.3em;box-sizing: border-box;text-align: center;}#sk-container-id-1 label.sk-toggleable__label-arrow:before {content: \"▸\";float: left;margin-right: 0.25em;color: #696969;}#sk-container-id-1 label.sk-toggleable__label-arrow:hover:before {color: black;}#sk-container-id-1 div.sk-estimator:hover label.sk-toggleable__label-arrow:before {color: black;}#sk-container-id-1 div.sk-toggleable__content {max-height: 0;max-width: 0;overflow: hidden;text-align: left;background-color: #f0f8ff;}#sk-container-id-1 div.sk-toggleable__content pre {margin: 0.2em;color: black;border-radius: 0.25em;background-color: #f0f8ff;}#sk-container-id-1 input.sk-toggleable__control:checked~div.sk-toggleable__content {max-height: 200px;max-width: 100%;overflow: auto;}#sk-container-id-1 input.sk-toggleable__control:checked~label.sk-toggleable__label-arrow:before {content: \"▾\";}#sk-container-id-1 div.sk-estimator input.sk-toggleable__control:checked~label.sk-toggleable__label {background-color: #d4ebff;}#sk-container-id-1 div.sk-label input.sk-toggleable__control:checked~label.sk-toggleable__label {background-color: #d4ebff;}#sk-container-id-1 input.sk-hidden--visually {border: 0;clip: rect(1px 1px 1px 1px);clip: rect(1px, 1px, 1px, 1px);height: 1px;margin: -1px;overflow: hidden;padding: 0;position: absolute;width: 1px;}#sk-container-id-1 div.sk-estimator {font-family: monospace;background-color: #f0f8ff;border: 1px dotted black;border-radius: 0.25em;box-sizing: border-box;margin-bottom: 0.5em;}#sk-container-id-1 div.sk-estimator:hover {background-color: #d4ebff;}#sk-container-id-1 div.sk-parallel-item::after {content: \"\";width: 100%;border-bottom: 1px solid gray;flex-grow: 1;}#sk-container-id-1 div.sk-label:hover label.sk-toggleable__label {background-color: #d4ebff;}#sk-container-id-1 div.sk-serial::before {content: \"\";position: absolute;border-left: 1px solid gray;box-sizing: border-box;top: 0;bottom: 0;left: 50%;z-index: 0;}#sk-container-id-1 div.sk-serial {display: flex;flex-direction: column;align-items: center;background-color: white;padding-right: 0.2em;padding-left: 0.2em;position: relative;}#sk-container-id-1 div.sk-item {position: relative;z-index: 1;}#sk-container-id-1 div.sk-parallel {display: flex;align-items: stretch;justify-content: center;background-color: white;position: relative;}#sk-container-id-1 div.sk-item::before, #sk-container-id-1 div.sk-parallel-item::before {content: \"\";position: absolute;border-left: 1px solid gray;box-sizing: border-box;top: 0;bottom: 0;left: 50%;z-index: -1;}#sk-container-id-1 div.sk-parallel-item {display: flex;flex-direction: column;z-index: 1;position: relative;background-color: white;}#sk-container-id-1 div.sk-parallel-item:first-child::after {align-self: flex-end;width: 50%;}#sk-container-id-1 div.sk-parallel-item:last-child::after {align-self: flex-start;width: 50%;}#sk-container-id-1 div.sk-parallel-item:only-child::after {width: 0;}#sk-container-id-1 div.sk-dashed-wrapped {border: 1px dashed gray;margin: 0 0.4em 0.5em 0.4em;box-sizing: border-box;padding-bottom: 0.4em;background-color: white;}#sk-container-id-1 div.sk-label label {font-family: monospace;font-weight: bold;display: inline-block;line-height: 1.2em;}#sk-container-id-1 div.sk-label-container {text-align: center;}#sk-container-id-1 div.sk-container {/* jupyter's `normalize.less` sets `[hidden] { display: none; }` but bootstrap.min.css set `[hidden] { display: none !important; }` so we also need the `!important` here to be able to override the default hidden behavior on the sphinx rendered scikit-learn.org. See: https://github.com/scikit-learn/scikit-learn/issues/21755 */display: inline-block !important;position: relative;}#sk-container-id-1 div.sk-text-repr-fallback {display: none;}</style><div id=\"sk-container-id-1\" class=\"sk-top-container\"><div class=\"sk-text-repr-fallback\"><pre>LinearRegression()</pre><b>In a Jupyter environment, please rerun this cell to show the HTML representation or trust the notebook. <br />On GitHub, the HTML representation is unable to render, please try loading this page with nbviewer.org.</b></div><div class=\"sk-container\" hidden><div class=\"sk-item\"><div class=\"sk-estimator sk-toggleable\"><input class=\"sk-toggleable__control sk-hidden--visually\" id=\"sk-estimator-id-1\" type=\"checkbox\" checked><label for=\"sk-estimator-id-1\" class=\"sk-toggleable__label sk-toggleable__label-arrow\">LinearRegression</label><div class=\"sk-toggleable__content\"><pre>LinearRegression()</pre></div></div></div></div></div>"
            ]
          },
          "metadata": {},
          "execution_count": 66
        }
      ]
    },
    {
      "cell_type": "code",
      "source": [
        "Y_pred = model.predict(X_test)"
      ],
      "metadata": {
        "id": "zGTmpvoIjP_8"
      },
      "execution_count": null,
      "outputs": []
    },
    {
      "cell_type": "code",
      "source": [
        "print(features.columns)\n",
        "print(f\"Coefficients: {model.coef_}\")\n",
        "print(f\"Intercept: {model.intercept_ : .3f}\")\n",
        "print(f\"MSE: {mean_squared_error(Y_test, Y_pred): .3f} \")\n",
        "print(f\"Coefficient of determination (R^2): {r2_score(Y_test, Y_pred): .3f}\")"
      ],
      "metadata": {
        "colab": {
          "base_uri": "https://localhost:8080/"
        },
        "id": "qAK2Ly1up45m",
        "outputId": "3a87429d-c17a-4c38-ccc8-bddc270fda8f"
      },
      "execution_count": null,
      "outputs": [
        {
          "output_type": "stream",
          "name": "stdout",
          "text": [
            "Index(['scoring Average', 'SG total Average', 'SG OTT Average',\n",
            "       'SG ATG Average', 'SG TTG Average', 'SG APR Average', 'SG PUT Average',\n",
            "       'avg_score_tourney', 'avg_cut_tourney', 'avg_score_course',\n",
            "       'avg_cut_course'],\n",
            "      dtype='object')\n",
            "Coefficients: [ 1.03630005  3.52759991 -1.23789846 -1.37443236 -1.84847821 -1.32440681\n",
            " -2.96349027  0.39142681  0.9832041   0.39142681  0.9832041 ]\n",
            "Intercept: -74.304\n",
            "MSE:  25.291 \n",
            "Coefficient of determination (R^2):  0.575\n"
          ]
        }
      ]
    },
    {
      "cell_type": "code",
      "source": [
        "Y_test"
      ],
      "metadata": {
        "colab": {
          "base_uri": "https://localhost:8080/"
        },
        "id": "pXhw8wT87oWe",
        "outputId": "378c19ef-bed1-469d-9b6d-8bedca0bc88a"
      },
      "execution_count": null,
      "outputs": [
        {
          "output_type": "execute_result",
          "data": {
            "text/plain": [
              "98      8.00\n",
              "231    -8.00\n",
              "22      6.00\n",
              "100    -8.00\n",
              "71      0.00\n",
              "182     8.00\n",
              "173    -4.00\n",
              "112    -7.00\n",
              "117   -12.00\n",
              "194   -13.00\n",
              "109     1.00\n",
              "210     6.00\n",
              "16     19.00\n",
              "201     4.00\n",
              "165   -12.00\n",
              "59      5.00\n",
              "219   -11.00\n",
              "148    -7.00\n",
              "127    -9.00\n",
              "114     2.00\n",
              "137     2.00\n",
              "73     -7.00\n",
              "30     -6.00\n",
              "85     -1.00\n",
              "107    -5.00\n",
              "163    -9.00\n",
              "131    -5.00\n",
              "224     7.00\n",
              "Name: last_season_score, dtype: float64"
            ]
          },
          "metadata": {},
          "execution_count": 80
        }
      ]
    },
    {
      "cell_type": "code",
      "source": [
        "Y_pred"
      ],
      "metadata": {
        "colab": {
          "base_uri": "https://localhost:8080/"
        },
        "id": "Q32WUL397p-Q",
        "outputId": "b7be043c-74bd-4d95-84e9-5f0bb73ab02f"
      },
      "execution_count": null,
      "outputs": [
        {
          "output_type": "execute_result",
          "data": {
            "text/plain": [
              "array([ 2.11318636, -0.78201533,  2.40071528, -2.72330764, -1.20429749,\n",
              "        1.57481516, -0.49636714, -0.95090613, -6.58005249, -3.97406796,\n",
              "       -0.51272197,  5.66096217, 15.96298109, -2.095981  , -6.68234574,\n",
              "       -1.57984238, -8.28240681, -5.46381371, -0.46338601, -1.78315985,\n",
              "        0.07675733, -1.84994075, -0.29741422,  1.76817511, -2.46739268,\n",
              "       -1.98037555,  0.08500244,  4.01395197])"
            ]
          },
          "metadata": {},
          "execution_count": 81
        }
      ]
    },
    {
      "cell_type": "code",
      "source": [
        "plt.figure(figsize=(15,10))\n",
        "plt.scatter(Y_test, Y_pred)\n",
        "plt.xlabel(\"Actual\")\n",
        "plt.ylabel(\"Predicted\")\n",
        "plt.title(\"Actual vs. Predicted\")"
      ],
      "metadata": {
        "colab": {
          "base_uri": "https://localhost:8080/",
          "height": 889
        },
        "id": "UU71YXu28O2f",
        "outputId": "f9903950-9f9a-4d0b-b809-08a4a452de93"
      },
      "execution_count": null,
      "outputs": [
        {
          "output_type": "execute_result",
          "data": {
            "text/plain": [
              "Text(0.5, 1.0, 'Actual vs. Predicted')"
            ]
          },
          "metadata": {},
          "execution_count": 82
        },
        {
          "output_type": "display_data",
          "data": {
            "text/plain": [
              "<Figure size 1500x1000 with 1 Axes>"
            ],
            "image/png": "[encoded data removed]"
          },
          "metadata": {}
        }
      ]
    },
    {
      "cell_type": "markdown",
      "source": [
        "Predicted Values"
      ],
      "metadata": {
        "id": "7vC3j6dv9eDM"
      }
    },
    {
      "cell_type": "code",
      "source": [
        "pred_y_df = pd.DataFrame({\"Actual Value\": Y_test, \"Predicted Value\": Y_pred, \"Difference\": Y_test - Y_pred})\n",
        "pred_y_df"
      ],
      "metadata": {
        "colab": {
          "base_uri": "https://localhost:8080/",
          "height": 927
        },
        "id": "VLOvf4V79gjS",
        "outputId": "ed9877ea-4db8-48eb-b38b-cedb451253d0"
      },
      "execution_count": null,
      "outputs": [
        {
          "output_type": "execute_result",
          "data": {
            "text/plain": [
              "     Actual Value  Predicted Value  Difference\n",
              "98           8.00             2.11        5.89\n",
              "231         -8.00            -0.78       -7.22\n",
              "22           6.00             2.40        3.60\n",
              "100         -8.00            -2.72       -5.28\n",
              "71           0.00            -1.20        1.20\n",
              "182          8.00             1.57        6.43\n",
              "173         -4.00            -0.50       -3.50\n",
              "112         -7.00            -0.95       -6.05\n",
              "117        -12.00            -6.58       -5.42\n",
              "194        -13.00            -3.97       -9.03\n",
              "109          1.00            -0.51        1.51\n",
              "210          6.00             5.66        0.34\n",
              "16          19.00            15.96        3.04\n",
              "201          4.00            -2.10        6.10\n",
              "165        -12.00            -6.68       -5.32\n",
              "59           5.00            -1.58        6.58\n",
              "219        -11.00            -8.28       -2.72\n",
              "148         -7.00            -5.46       -1.54\n",
              "127         -9.00            -0.46       -8.54\n",
              "114          2.00            -1.78        3.78\n",
              "137          2.00             0.08        1.92\n",
              "73          -7.00            -1.85       -5.15\n",
              "30          -6.00            -0.30       -5.70\n",
              "85          -1.00             1.77       -2.77\n",
              "107         -5.00            -2.47       -2.53\n",
              "163         -9.00            -1.98       -7.02\n",
              "131         -5.00             0.09       -5.09\n",
              "224          7.00             4.01        2.99"
            ],
            "text/html": [
              "\n",
              "  <div id=\"df-457f33b4-5792-481d-83cf-d37cfd9e85ec\">\n",
              "    <div class=\"colab-df-container\">\n",
              "      <div>\n",
              "<style scoped>\n",
              "    .dataframe tbody tr th:only-of-type {\n",
              "        vertical-align: middle;\n",
              "    }\n",
              "\n",
              "    .dataframe tbody tr th {\n",
              "        vertical-align: top;\n",
              "    }\n",
              "\n",
              "    .dataframe thead th {\n",
              "        text-align: right;\n",
              "    }\n",
              "</style>\n",
              "<table border=\"1\" class=\"dataframe\">\n",
              "  <thead>\n",
              "    <tr style=\"text-align: right;\">\n",
              "      <th></th>\n",
              "      <th>Actual Value</th>\n",
              "      <th>Predicted Value</th>\n",
              "      <th>Difference</th>\n",
              "    </tr>\n",
              "  </thead>\n",
              "  <tbody>\n",
              "    <tr>\n",
              "      <th>98</th>\n",
              "      <td>8.00</td>\n",
              "      <td>2.11</td>\n",
              "      <td>5.89</td>\n",
              "    </tr>\n",
              "    <tr>\n",
              "      <th>231</th>\n",
              "      <td>-8.00</td>\n",
              "      <td>-0.78</td>\n",
              "      <td>-7.22</td>\n",
              "    </tr>\n",
              "    <tr>\n",
              "      <th>22</th>\n",
              "      <td>6.00</td>\n",
              "      <td>2.40</td>\n",
              "      <td>3.60</td>\n",
              "    </tr>\n",
              "    <tr>\n",
              "      <th>100</th>\n",
              "      <td>-8.00</td>\n",
              "      <td>-2.72</td>\n",
              "      <td>-5.28</td>\n",
              "    </tr>\n",
              "    <tr>\n",
              "      <th>71</th>\n",
              "      <td>0.00</td>\n",
              "      <td>-1.20</td>\n",
              "      <td>1.20</td>\n",
              "    </tr>\n",
              "    <tr>\n",
              "      <th>182</th>\n",
              "      <td>8.00</td>\n",
              "      <td>1.57</td>\n",
              "      <td>6.43</td>\n",
              "    </tr>\n",
              "    <tr>\n",
              "      <th>173</th>\n",
              "      <td>-4.00</td>\n",
              "      <td>-0.50</td>\n",
              "      <td>-3.50</td>\n",
              "    </tr>\n",
              "    <tr>\n",
              "      <th>112</th>\n",
              "      <td>-7.00</td>\n",
              "      <td>-0.95</td>\n",
              "      <td>-6.05</td>\n",
              "    </tr>\n",
              "    <tr>\n",
              "      <th>117</th>\n",
              "      <td>-12.00</td>\n",
              "      <td>-6.58</td>\n",
              "      <td>-5.42</td>\n",
              "    </tr>\n",
              "    <tr>\n",
              "      <th>194</th>\n",
              "      <td>-13.00</td>\n",
              "      <td>-3.97</td>\n",
              "      <td>-9.03</td>\n",
              "    </tr>\n",
              "    <tr>\n",
              "      <th>109</th>\n",
              "      <td>1.00</td>\n",
              "      <td>-0.51</td>\n",
              "      <td>1.51</td>\n",
              "    </tr>\n",
              "    <tr>\n",
              "      <th>210</th>\n",
              "      <td>6.00</td>\n",
              "      <td>5.66</td>\n",
              "      <td>0.34</td>\n",
              "    </tr>\n",
              "    <tr>\n",
              "      <th>16</th>\n",
              "      <td>19.00</td>\n",
              "      <td>15.96</td>\n",
              "      <td>3.04</td>\n",
              "    </tr>\n",
              "    <tr>\n",
              "      <th>201</th>\n",
              "      <td>4.00</td>\n",
              "      <td>-2.10</td>\n",
              "      <td>6.10</td>\n",
              "    </tr>\n",
              "    <tr>\n",
              "      <th>165</th>\n",
              "      <td>-12.00</td>\n",
              "      <td>-6.68</td>\n",
              "      <td>-5.32</td>\n",
              "    </tr>\n",
              "    <tr>\n",
              "      <th>59</th>\n",
              "      <td>5.00</td>\n",
              "      <td>-1.58</td>\n",
              "      <td>6.58</td>\n",
              "    </tr>\n",
              "    <tr>\n",
              "      <th>219</th>\n",
              "      <td>-11.00</td>\n",
              "      <td>-8.28</td>\n",
              "      <td>-2.72</td>\n",
              "    </tr>\n",
              "    <tr>\n",
              "      <th>148</th>\n",
              "      <td>-7.00</td>\n",
              "      <td>-5.46</td>\n",
              "      <td>-1.54</td>\n",
              "    </tr>\n",
              "    <tr>\n",
              "      <th>127</th>\n",
              "      <td>-9.00</td>\n",
              "      <td>-0.46</td>\n",
              "      <td>-8.54</td>\n",
              "    </tr>\n",
              "    <tr>\n",
              "      <th>114</th>\n",
              "      <td>2.00</td>\n",
              "      <td>-1.78</td>\n",
              "      <td>3.78</td>\n",
              "    </tr>\n",
              "    <tr>\n",
              "      <th>137</th>\n",
              "      <td>2.00</td>\n",
              "      <td>0.08</td>\n",
              "      <td>1.92</td>\n",
              "    </tr>\n",
              "    <tr>\n",
              "      <th>73</th>\n",
              "      <td>-7.00</td>\n",
              "      <td>-1.85</td>\n",
              "      <td>-5.15</td>\n",
              "    </tr>\n",
              "    <tr>\n",
              "      <th>30</th>\n",
              "      <td>-6.00</td>\n",
              "      <td>-0.30</td>\n",
              "      <td>-5.70</td>\n",
              "    </tr>\n",
              "    <tr>\n",
              "      <th>85</th>\n",
              "      <td>-1.00</td>\n",
              "      <td>1.77</td>\n",
              "      <td>-2.77</td>\n",
              "    </tr>\n",
              "    <tr>\n",
              "      <th>107</th>\n",
              "      <td>-5.00</td>\n",
              "      <td>-2.47</td>\n",
              "      <td>-2.53</td>\n",
              "    </tr>\n",
              "    <tr>\n",
              "      <th>163</th>\n",
              "      <td>-9.00</td>\n",
              "      <td>-1.98</td>\n",
              "      <td>-7.02</td>\n",
              "    </tr>\n",
              "    <tr>\n",
              "      <th>131</th>\n",
              "      <td>-5.00</td>\n",
              "      <td>0.09</td>\n",
              "      <td>-5.09</td>\n",
              "    </tr>\n",
              "    <tr>\n",
              "      <th>224</th>\n",
              "      <td>7.00</td>\n",
              "      <td>4.01</td>\n",
              "      <td>2.99</td>\n",
              "    </tr>\n",
              "  </tbody>\n",
              "</table>\n",
              "</div>\n",
              "      <button class=\"colab-df-convert\" onclick=\"convertToInteractive('df-457f33b4-5792-481d-83cf-d37cfd9e85ec')\"\n",
              "              title=\"Convert this dataframe to an interactive table.\"\n",
              "              style=\"display:none;\">\n",
              "        \n",
              "  <svg xmlns=\"http://www.w3.org/2000/svg\" height=\"24px\"viewBox=\"0 0 24 24\"\n",
              "       width=\"24px\">\n",
              "    <path d=\"M0 0h24v24H0V0z\" fill=\"none\"/>\n",
              "    <path d=\"M18.56 5.44l.94 2.06.94-2.06 2.06-.94-2.06-.94-.94-2.06-.94 2.06-2.06.94zm-11 1L8.5 8.5l.94-2.06 2.06-.94-2.06-.94L8.5 2.5l-.94 2.06-2.06.94zm10 10l.94 2.06.94-2.06 2.06-.94-2.06-.94-.94-2.06-.94 2.06-2.06.94z\"/><path d=\"M17.41 7.96l-1.37-1.37c-.4-.4-.92-.59-1.43-.59-.52 0-1.04.2-1.43.59L10.3 9.45l-7.72 7.72c-.78.78-.78 2.05 0 2.83L4 21.41c.39.39.9.59 1.41.59.51 0 1.02-.2 1.41-.59l7.78-7.78 2.81-2.81c.8-.78.8-2.07 0-2.86zM5.41 20L4 18.59l7.72-7.72 1.47 1.35L5.41 20z\"/>\n",
              "  </svg>\n",
              "      </button>\n",
              "      \n",
              "  <style>\n",
              "    .colab-df-container {\n",
              "      display:flex;\n",
              "      flex-wrap:wrap;\n",
              "      gap: 12px;\n",
              "    }\n",
              "\n",
              "    .colab-df-convert {\n",
              "      background-color: #E8F0FE;\n",
              "      border: none;\n",
              "      border-radius: 50%;\n",
              "      cursor: pointer;\n",
              "      display: none;\n",
              "      fill: #1967D2;\n",
              "      height: 32px;\n",
              "      padding: 0 0 0 0;\n",
              "      width: 32px;\n",
              "    }\n",
              "\n",
              "    .colab-df-convert:hover {\n",
              "      background-color: #E2EBFA;\n",
              "      box-shadow: 0px 1px 2px rgba(60, 64, 67, 0.3), 0px 1px 3px 1px rgba(60, 64, 67, 0.15);\n",
              "      fill: #174EA6;\n",
              "    }\n",
              "\n",
              "    [theme=dark] .colab-df-convert {\n",
              "      background-color: #3B4455;\n",
              "      fill: #D2E3FC;\n",
              "    }\n",
              "\n",
              "    [theme=dark] .colab-df-convert:hover {\n",
              "      background-color: #434B5C;\n",
              "      box-shadow: 0px 1px 3px 1px rgba(0, 0, 0, 0.15);\n",
              "      filter: drop-shadow(0px 1px 2px rgba(0, 0, 0, 0.3));\n",
              "      fill: #FFFFFF;\n",
              "    }\n",
              "  </style>\n",
              "\n",
              "      <script>\n",
              "        const buttonEl =\n",
              "          document.querySelector('#df-457f33b4-5792-481d-83cf-d37cfd9e85ec button.colab-df-convert');\n",
              "        buttonEl.style.display =\n",
              "          google.colab.kernel.accessAllowed ? 'block' : 'none';\n",
              "\n",
              "        async function convertToInteractive(key) {\n",
              "          const element = document.querySelector('#df-457f33b4-5792-481d-83cf-d37cfd9e85ec');\n",
              "          const dataTable =\n",
              "            await google.colab.kernel.invokeFunction('convertToInteractive',\n",
              "                                                     [key], {});\n",
              "          if (!dataTable) return;\n",
              "\n",
              "          const docLinkHtml = 'Like what you see? Visit the ' +\n",
              "            '<a target=\"_blank\" href=https://colab.research.google.com/notebooks/data_table.ipynb>data table notebook</a>'\n",
              "            + ' to learn more about interactive tables.';\n",
              "          element.innerHTML = '';\n",
              "          dataTable['output_type'] = 'display_data';\n",
              "          await google.colab.output.renderOutput(dataTable, element);\n",
              "          const docLink = document.createElement('div');\n",
              "          docLink.innerHTML = docLinkHtml;\n",
              "          element.appendChild(docLink);\n",
              "        }\n",
              "      </script>\n",
              "    </div>\n",
              "  </div>\n",
              "  "
            ]
          },
          "metadata": {},
          "execution_count": 83
        }
      ]
    }
  ]
}